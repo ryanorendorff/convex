{
 "cells": [
  {
   "cell_type": "code",
   "execution_count": 1,
   "metadata": {},
   "outputs": [],
   "source": [
    ":e DataKinds\n",
    ":e TypeOperators\n",
    ":e TypeApplications\n",
    ":e ScopedTypeVariables\n",
    ":e FlexibleContexts\n",
    ":e ViewPatterns\n",
    ":e KindSignatures\n",
    ":e TypeFamilies\n",
    ":e RankNTypes\n",
    ":e GADTs\n",
    "\n",
    ":s -fplugin GHC.TypeLits.KnownNat.Solver\n",
    ":s -fplugin GHC.TypeLits.Normalise\n",
    "\n",
    "import           GHC.TypeLits\n",
    "import           Numeric.LinearAlgebra.Static\n",
    "import qualified Numeric.LinearAlgebra.Static as S\n",
    "import qualified Numeric.LinearAlgebra as LA\n",
    "import           Data.Proxy\n",
    "import qualified Numeric.LinearProgramming.L1 as L1\n",
    "import Data.Maybe\n",
    "import System.Random hiding (split)\n",
    "import qualified Data.Vector.Storable as V\n",
    "import Data.Proxy\n",
    "import Data.Tuple.HT (fst3)\n",
    "\n",
    "-- For plotting\n",
    "import Graphics.Rendering.Chart\n",
    "import Data.Colour\n",
    "import Data.Colour.Names\n",
    "import Data.Default.Class\n",
    "import Graphics.Rendering.Chart.Backend.Cairo\n",
    "import Control.Lens\n",
    "import IHaskellPrelude hiding ((<>))\n",
    "import Data.List (unfoldr)\n"
   ]
  },
  {
   "cell_type": "code",
   "execution_count": 2,
   "metadata": {},
   "outputs": [],
   "source": [
    "data UnitaryRational (n :: Nat) (m :: Nat) where\n",
    "    UnitaryRational :: (KnownNat n, KnownNat m, 1 <= m, n <= m) => UnitaryRational n m\n",
    "\n",
    "instance (KnownNat n, KnownNat m) => Show (UnitaryRational n m) where\n",
    "    show _ = \"UnitaryRational \" ++ show n' ++ \" \" ++ show m'\n",
    "        where\n",
    "            n' = fromIntegral . natVal $ (undefined :: Proxy n) :: Int\n",
    "            m' = fromIntegral . natVal $ (undefined :: Proxy m) :: Int"
   ]
  },
  {
   "cell_type": "code",
   "execution_count": 3,
   "metadata": {},
   "outputs": [],
   "source": [
    "unitary_to_pair :: forall n m. (KnownNat n, KnownNat m) => UnitaryRational n m -> (Integer, Integer)\n",
    "unitary_to_pair _ = (num, denom)\n",
    "    where\n",
    "        num = natVal $ (undefined :: Proxy n) :: Integer\n",
    "        denom = natVal $ (undefined :: Proxy m) :: Integer\n",
    "        \n",
    "unitary_to_fractional :: forall n m o. (KnownNat n, KnownNat m, Fractional o) => UnitaryRational n m -> o\n",
    "unitary_to_fractional x = (fromIntegral num) / (fromIntegral denom)\n",
    "    where\n",
    "        (num, denom) = unitary_to_pair x\n",
    "        "
   ]
  },
  {
   "cell_type": "code",
   "execution_count": 4,
   "metadata": {},
   "outputs": [
    {
     "data": {
      "text/plain": [
       "0.6"
      ]
     },
     "metadata": {},
     "output_type": "display_data"
    }
   ],
   "source": [
    "unitary_to_fractional (UnitaryRational :: UnitaryRational 3 5)"
   ]
  },
  {
   "cell_type": "code",
   "execution_count": 5,
   "metadata": {},
   "outputs": [],
   "source": [
    "-- https://en.wikipedia.org/wiki/Karmarkar%27s_algorithm\n",
    "affine_scaling :: (KnownNat m, KnownNat n, KnownNat p, KnownNat q, 1 <= n, 1 <= m) => L m n -> R m -> R n -> R n -> UnitaryRational p q -> [Maybe (R n)]\n",
    "affine_scaling a b c x0 gamma = iterate (>>= go) (Just x0)\n",
    "    where\n",
    "        gamma' = unitary_to_fractional gamma\n",
    "        \n",
    "        min_vh :: (KnownNat n) => R n -> R n -> Double\n",
    "        min_vh v h = minimum . map fst . filter ((<0) . snd) $ vals_with_h\n",
    "            where\n",
    "                vals = zipWithVector (\\vi hi -> -vi/hi) v h\n",
    "                vals_with_h = zip (LA.toList $ extract vals) (LA.toList $ extract h)\n",
    "                        \n",
    "        go xk = let\n",
    "            vk = b - a #> xk\n",
    "            dm_negsq = diag $ dvmap (**(-2)) vk\n",
    "            hx = inv ((tr a) S.<> dm_negsq S.<> a) #> c\n",
    "            hv = ((konst (-1)) * a #> hx)\n",
    "            alpha = gamma' * min_vh vk hv\n",
    "            xkp1 = xk + (konst alpha) * hx\n",
    "            in \n",
    "                if ((>=0) . maximum . LA.toList . extract $ hv)\n",
    "                then Nothing\n",
    "                else Just xkp1"
   ]
  },
  {
   "cell_type": "code",
   "execution_count": 6,
   "metadata": {},
   "outputs": [],
   "source": [
    "p = vector [0.0, 0.1, 0.2, 0.3, 0.4, 0.5, 0.6, 0.7, 0.8, 0.9, 1.0] :: R 11\n",
    "\n",
    "-- min c^Tx\n",
    "c = vec2 1 1\n",
    "\n",
    "-- s.t Ax <= b\n",
    "a = ((konst 2) * (col p)) ||| (1 :: L 11 1)\n",
    "b = p**2 + 1"
   ]
  },
  {
   "cell_type": "code",
   "execution_count": 9,
   "metadata": {},
   "outputs": [],
   "source": [
    "lpSol = affine_scaling a b c (konst 0) (UnitaryRational :: UnitaryRational 50 100)"
   ]
  },
  {
   "cell_type": "code",
   "execution_count": 10,
   "metadata": {},
   "outputs": [
    {
     "data": {
      "text/plain": [
       "R 2\n",
       "0  0\n",
       "R 2\n",
       "0.3834998360  0.2064002625\n",
       "R 2\n",
       "0.4760045477  0.4420945756\n",
       "R 2\n",
       "0.4928840659  0.5911654957\n",
       "R 2\n",
       "0.4970811507  0.6699436301\n",
       "R 2\n",
       "0.4985057320  0.7100066584\n",
       "R 2\n",
       "0.4991187905  0.7301374047\n",
       "R 2\n",
       "0.4994287564  0.7401993412\n",
       "R 2\n",
       "0.4995954129  0.7452186359\n",
       "R 2\n",
       "0.4996829038  0.7477241206\n",
       "R 2\n",
       "0.4997272267  0.7489762855\n",
       "R 2\n",
       "0.4997493491  0.7496024070\n",
       "R 2\n",
       "0.4997603650  0.7499155130\n",
       "R 2\n",
       "0.4997658564  0.7500720827\n",
       "R 2\n",
       "0.4997685971  0.7501503724\n",
       "R 2\n",
       "0.4997699662  0.7501895186\n",
       "R 2\n",
       "0.4997706504  0.7502090920\n",
       "R 2\n",
       "0.4997709924  0.7502188788\n",
       "R 2\n",
       "0.4997711634  0.7502237722\n",
       "R 2\n",
       "0.4997712489  0.7502262189"
      ]
     },
     "metadata": {},
     "output_type": "display_data"
    }
   ],
   "source": [
    "mapM_ (disp 10 . fromJust) . take 20 $ lpSol"
   ]
  }
 ],
 "metadata": {
  "kernelspec": {
   "display_name": "Haskell - haskell",
   "language": "haskell",
   "name": "ihaskell_haskell"
  },
  "language_info": {
   "codemirror_mode": "ihaskell",
   "file_extension": ".hs",
   "name": "haskell",
   "pygments_lexer": "Haskell",
   "version": "8.4.4"
  }
 },
 "nbformat": 4,
 "nbformat_minor": 2
}
