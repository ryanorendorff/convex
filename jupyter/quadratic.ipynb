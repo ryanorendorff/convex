{
 "cells": [
  {
   "cell_type": "code",
   "execution_count": 2,
   "metadata": {},
   "outputs": [],
   "source": [
    ":e DataKinds\n",
    ":e TypeOperators\n",
    ":e TypeApplications\n",
    ":e ScopedTypeVariables\n",
    ":e FlexibleContexts\n",
    ":e ViewPatterns\n",
    ":e KindSignatures\n",
    ":e TypeFamilies\n",
    ":e RankNTypes\n",
    ":e GADTs\n",
    "\n",
    ":s -fplugin GHC.TypeLits.KnownNat.Solver\n",
    ":s -fplugin GHC.TypeLits.Normalise\n",
    "\n",
    "import           GHC.TypeLits\n",
    "import           Numeric.LinearAlgebra.Static\n",
    "import qualified Numeric.LinearAlgebra.Static as S\n",
    "import qualified Numeric.LinearAlgebra as LA\n",
    "import           Data.Proxy\n",
    "import qualified Numeric.LinearProgramming.L1 as L1\n",
    "import Data.Maybe\n",
    "import System.Random hiding (split)\n",
    "import qualified Data.Vector.Storable as V\n",
    "import Data.Proxy\n",
    "import Data.Tuple.HT (fst3)\n",
    "\n",
    "-- For plotting\n",
    "import Graphics.Rendering.Chart\n",
    "import Data.Colour\n",
    "import Data.Colour.Names\n",
    "import Data.Default.Class\n",
    "import Graphics.Rendering.Chart.Backend.Cairo\n",
    "import Control.Lens\n",
    "import IHaskellPrelude hiding ((<>))\n",
    "import Data.List (unfoldr)\n"
   ]
  },
  {
   "cell_type": "code",
   "execution_count": 3,
   "metadata": {},
   "outputs": [],
   "source": [
    "-- | Form a block matrix out of component pieces\n",
    "blockMatrix :: forall m n p q. (KnownNat m, KnownNat n, KnownNat p, KnownNat q) => \n",
    "               L m n -> L m p -> L q n -> L q p -> L (m + q) (n + p) \n",
    "blockMatrix a b c d = a ||| b \n",
    "                        === \n",
    "                      c ||| d\n",
    " \n",
    " \n",
    "infixl 2 ==^\n",
    "(==^) :: (KnownNat m, KnownNat n) => R m -> R n -> L (m + n) 1\n",
    "(==^) x y = col x === col y\n",
    "\n",
    "infixl 3 ||^\n",
    "(||^) :: (KnownNat m, KnownNat n) => R m -> R n -> L 1 (m + n)\n",
    "(||^) x y = row x ||| row y"
   ]
  },
  {
   "cell_type": "code",
   "execution_count": 4,
   "metadata": {},
   "outputs": [],
   "source": [
    "-- | Here we are solving the problem min. 1/2 x^TQx + c^Tx s.t. Ax = b by using\n",
    "-- the method of Lagrange multipliers. \n",
    "qp_with_lsq_constraints :: forall m n. (KnownNat m, KnownNat n) => \n",
    "                           Sym m -> R m -> L n m -> R n -> R m\n",
    "qp_with_lsq_constraints q c a b = fst . split . uncol $ block <\\> y\n",
    "    where\n",
    "        block = blockMatrix (unSym q) (tr a) \n",
    "                                   a      0\n",
    "        y =  (-1 * c)\n",
    "                ==^\n",
    "                 b"
   ]
  }
 ],
 "metadata": {
  "kernelspec": {
   "display_name": "Haskell - haskell",
   "language": "haskell",
   "name": "ihaskell_haskell"
  },
  "language_info": {
   "codemirror_mode": "ihaskell",
   "file_extension": ".hs",
   "name": "haskell",
   "pygments_lexer": "Haskell",
   "version": "8.4.4"
  }
 },
 "nbformat": 4,
 "nbformat_minor": 2
}
